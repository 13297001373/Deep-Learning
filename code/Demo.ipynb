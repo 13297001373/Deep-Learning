{
 "cells": [
  {
   "cell_type": "heading",
   "metadata": {
    "collapsed": true
   },
   "level": 1,
   "source": [
    "模型参数访问、初始化和共享"
   ]
  },
  {
   "cell_type": "markdown",
   "metadata": {},
   "source": [
    "我们先定义一个与上一节中相同的含单个隐藏层的多层感知机"
   ]
  },
  {
   "cell_type": "code",
   "execution_count": 6,
   "metadata": {
    "collapsed": false
   },
   "outputs": [
    {
     "name": "stdout",
     "output_type": "stream",
     "text": [
      "\n[[ 0.0215123  -0.00999171  0.01383718 -0.0259273  -0.00332951  0.02987511\n  -0.01507707 -0.00939399 -0.09489147 -0.07161631]\n [ 0.04690181  0.00833477 -0.03466241  0.03673035 -0.03812394  0.02809485\n   0.01214801  0.03816549 -0.08725169 -0.01590922]]\n<NDArray 2x10 @cpu(0)>\n"
     ]
    }
   ],
   "source": [
    "\n",
    "from mxnet import init,nd\n",
    "from mxnet.gluon import nn\n",
    "\n",
    "model = nn.Sequential()\n",
    "\n",
    "model.add(nn.Dense(256,activation='relu'))\n",
    "model.add(nn.Dense(10))\n",
    "\n",
    "model.initialize() ##默认方式初始化\n",
    "X =nd.random.uniform(shape=(2,20))\n",
    "y = model(X)\n",
    "\n",
    "\n"
   ]
  },
  {
   "cell_type": "heading",
   "metadata": {},
   "level": 1,
   "source": [
    "访问模型参数"
   ]
  },
  {
   "cell_type": "code",
   "execution_count": 10,
   "metadata": {
    "collapsed": false
   },
   "outputs": [
    {
     "data": {
      "text/plain": [
       "Parameter dense6_weight (shape=(256, 20), dtype=float32)"
      ]
     },
     "execution_count": 10,
     "metadata": {},
     "output_type": "execute_result"
    }
   ],
   "source": [
    "#访问模型参数\n",
    "model[0].params,type(model[0].params)\n",
    "##访问模型的具体参数\n",
    "model[0].params['dense6_weight']"
   ]
  },
  {
   "cell_type": "code",
   "execution_count": 12,
   "metadata": {},
   "outputs": [
    {
     "data": {
      "text/plain": [
       "\n[[ 0.  0.  0. ...,  0.  0.  0.]\n [ 0.  0.  0. ...,  0.  0.  0.]\n [ 0.  0.  0. ...,  0.  0.  0.]\n ..., \n [ 0.  0.  0. ...,  0.  0.  0.]\n [ 0.  0.  0. ...,  0.  0.  0.]\n [ 0.  0.  0. ...,  0.  0.  0.]]\n<NDArray 256x20 @cpu(0)>"
      ]
     },
     "execution_count": 12,
     "metadata": {},
     "output_type": "execute_result"
    }
   ],
   "source": [
    "##查看参数的具体值\n",
    "model[0].weight.data()\n",
    "#查看参数的梯度\n",
    "model[0].weight.grad()"
   ]
  },
  {
   "cell_type": "code",
   "execution_count": 15,
   "metadata": {},
   "outputs": [
    {
     "data": {
      "text/plain": [
       "sequential3_ (\n  Parameter dense6_weight (shape=(256, 20), dtype=float32)\n  Parameter dense7_weight (shape=(10, 256), dtype=float32)\n)"
      ]
     },
     "execution_count": 15,
     "metadata": {},
     "output_type": "execute_result"
    }
   ],
   "source": [
    "#使用collect_params函数来获取net变量所有嵌套\n",
    "model.collect_params()\n",
    "model.collect_params('.*weight') ##使用正则表达式来获取想要的参数"
   ]
  },
  {
   "cell_type": "heading",
   "metadata": {},
   "level": 1,
   "source": [
    "初始化模型参数"
   ]
  },
  {
   "cell_type": "code",
   "execution_count": 16,
   "metadata": {},
   "outputs": [
    {
     "data": {
      "text/plain": [
       "\n[ -6.54585892e-03   5.46171237e-03  -3.14823980e-03   6.53286325e-03\n   2.39426945e-03   1.43013904e-02   8.93270038e-03   1.07622147e-02\n  -4.81205340e-03   4.11936874e-03   5.70393493e-03  -3.80902132e-03\n  -5.08007919e-03  -1.39692018e-03  -9.47653371e-06   8.14091600e-03\n  -1.76932309e-02  -1.07601862e-02   8.86166934e-03  -1.24831125e-02]\n<NDArray 20 @cpu(0)>"
      ]
     },
     "execution_count": 16,
     "metadata": {},
     "output_type": "execute_result"
    }
   ],
   "source": [
    "model.initialize(init=init.Normal(sigma=0.01),force_reinit=True)\n",
    "model[0].weight.data()[0]"
   ]
  },
  {
   "cell_type": "code",
   "execution_count": 17,
   "metadata": {},
   "outputs": [
    {
     "data": {
      "text/plain": [
       "\n[ 1.  1.  1.  1.  1.  1.  1.  1.  1.  1.  1.  1.  1.  1.  1.  1.  1.  1.\n  1.  1.]\n<NDArray 20 @cpu(0)>"
      ]
     },
     "execution_count": 17,
     "metadata": {},
     "output_type": "execute_result"
    }
   ],
   "source": [
    "##常数初始化\n",
    "model.initialize(init=init.Constant(1),force_reinit=True)\n",
    "model[0].weight.data()[0]"
   ]
  },
  {
   "cell_type": "heading",
   "metadata": {},
   "level": 1,
   "source": [
    "自定义初始化"
   ]
  },
  {
   "cell_type": "code",
   "execution_count": 20,
   "metadata": {},
   "outputs": [
    {
     "name": "stdout",
     "output_type": "stream",
     "text": [
      "Init dense6_weight (256, 20)\nInit dense7_weight (10, 256)\n"
     ]
    },
    {
     "data": {
      "text/plain": [
       "\n[-0.         -8.59105587 -5.17162752  0.          0.         -0.\n -5.07873631  0.          0.          8.5375824   0.          7.07880211\n -0.         -0.          0.         -0.         -0.          6.45118904\n  0.          0.        ]\n<NDArray 20 @cpu(0)>"
      ]
     },
     "execution_count": 20,
     "metadata": {},
     "output_type": "execute_result"
    }
   ],
   "source": [
    "class MyInit(init.Initializer):\n",
    "    def _init_weight(self,name,data):\n",
    "        print('Init',name,data.shape)\n",
    "        data[:] = nd.random.uniform(low=-10,high=10,shape=data.shape)\n",
    "        data *= data.abs() >=5\n",
    "model.initialize(MyInit(),force_reinit=True)\n",
    "model[0].weight.data()[0]"
   ]
  },
  {
   "cell_type": "heading",
   "metadata": {},
   "level": 1,
   "source": [
    "共享模型参数"
   ]
  },
  {
   "cell_type": "code",
   "execution_count": 24,
   "metadata": {},
   "outputs": [
    {
     "data": {
      "text/plain": [
       "\n[ 1.  1.  1.  1.  1.  1.  1.  1.]\n<NDArray 8 @cpu(0)>"
      ]
     },
     "execution_count": 24,
     "metadata": {},
     "output_type": "execute_result"
    }
   ],
   "source": [
    "model = nn.Sequential()\n",
    "shared = nn.Dense(8,activation='relu')\n",
    "model.add(nn.Dense(8,activation='relu'),\n",
    "          shared,\n",
    "          nn.Dense(8,activation='relu',params=shared.params),\n",
    "          nn.Dense(10))\n",
    "model.initialize(init=init.Normal(sigma=0.01))\n",
    "x = nd.random.uniform(shape=(2,20))\n",
    "model(x)\n",
    "model[1].weight.data()[0] == model[2].weight.data()[0]"
   ]
  },
  {
   "cell_type": "code",
   "execution_count": null,
   "metadata": {},
   "outputs": [],
   "source": []
  }
 ],
 "metadata": {
  "kernelspec": {
   "display_name": "Python 2",
   "language": "python",
   "name": "python2"
  },
  "language_info": {
   "codemirror_mode": {
    "name": "ipython",
    "version": 2
   },
   "file_extension": ".py",
   "mimetype": "text/x-python",
   "name": "python",
   "nbconvert_exporter": "python",
   "pygments_lexer": "ipython2",
   "version": "2.7.6"
  }
 },
 "nbformat": 4,
 "nbformat_minor": 0
}
