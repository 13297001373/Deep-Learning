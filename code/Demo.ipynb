{
 "cells": [
  {
   "cell_type": "heading",
   "metadata": {
    "collapsed": true
   },
   "level": 1,
   "source": [
    "模型参数访问、初始化和共享"
   ]
  },
  {
   "cell_type": "markdown",
   "metadata": {},
   "source": [
    "我们先定义一个与上一节中相同的含单个隐藏层的多层感知机"
   ]
  },
  {
   "cell_type": "code",
   "execution_count": 2,
   "metadata": {
    "collapsed": false
   },
   "outputs": [],
   "source": [
    "\n",
    "from mxnet import init,nd\n",
    "from mxnet.gluon import nn\n",
    "\n",
    "model = nn.Sequential()\n",
    "\n",
    "model.add(nn.Dense(256,activation='relu'))\n",
    "model.add(nn.Dense(10))\n",
    "\n",
    "model.initialize() ##默认方式初始化\n",
    "X =nd.random.uniform(shape=(2,20))\n",
    "y = model(X)\n",
    "\n",
    "\n"
   ]
  },
  {
   "cell_type": "heading",
   "metadata": {},
   "level": 1,
   "source": [
    "访问模型参数"
   ]
  },
  {
   "cell_type": "code",
   "execution_count": 10,
   "metadata": {
    "collapsed": false
   },
   "outputs": [
    {
     "data": {
      "text/plain": [
       "Parameter dense6_weight (shape=(256, 20), dtype=float32)"
      ]
     },
     "execution_count": 10,
     "metadata": {},
     "output_type": "execute_result"
    }
   ],
   "source": [
    "#访问模型参数\n",
    "model[0].params,type(model[0].params)\n",
    "##访问模型的具体参数\n",
    "model[0].params['dense6_weight']"
   ]
  },
  {
   "cell_type": "code",
   "execution_count": 12,
   "metadata": {},
   "outputs": [
    {
     "data": {
      "text/plain": [
       "\n[[ 0.  0.  0. ...,  0.  0.  0.]\n [ 0.  0.  0. ...,  0.  0.  0.]\n [ 0.  0.  0. ...,  0.  0.  0.]\n ..., \n [ 0.  0.  0. ...,  0.  0.  0.]\n [ 0.  0.  0. ...,  0.  0.  0.]\n [ 0.  0.  0. ...,  0.  0.  0.]]\n<NDArray 256x20 @cpu(0)>"
      ]
     },
     "execution_count": 12,
     "metadata": {},
     "output_type": "execute_result"
    }
   ],
   "source": [
    "##查看参数的具体值\n",
    "model[0].weight.data()\n",
    "#查看参数的梯度\n",
    "model[0].weight.grad()"
   ]
  },
  {
   "cell_type": "code",
   "execution_count": 15,
   "metadata": {},
   "outputs": [
    {
     "data": {
      "text/plain": [
       "sequential3_ (\n  Parameter dense6_weight (shape=(256, 20), dtype=float32)\n  Parameter dense7_weight (shape=(10, 256), dtype=float32)\n)"
      ]
     },
     "execution_count": 15,
     "metadata": {},
     "output_type": "execute_result"
    }
   ],
   "source": [
    "#使用collect_params函数来获取net变量所有嵌套\n",
    "model.collect_params()\n",
    "model.collect_params('.*weight') ##使用正则表达式来获取想要的参数"
   ]
  },
  {
   "cell_type": "heading",
   "metadata": {},
   "level": 1,
   "source": [
    "初始化模型参数"
   ]
  },
  {
   "cell_type": "code",
   "execution_count": 16,
   "metadata": {},
   "outputs": [
    {
     "data": {
      "text/plain": [
       "\n[ -6.54585892e-03   5.46171237e-03  -3.14823980e-03   6.53286325e-03\n   2.39426945e-03   1.43013904e-02   8.93270038e-03   1.07622147e-02\n  -4.81205340e-03   4.11936874e-03   5.70393493e-03  -3.80902132e-03\n  -5.08007919e-03  -1.39692018e-03  -9.47653371e-06   8.14091600e-03\n  -1.76932309e-02  -1.07601862e-02   8.86166934e-03  -1.24831125e-02]\n<NDArray 20 @cpu(0)>"
      ]
     },
     "execution_count": 16,
     "metadata": {},
     "output_type": "execute_result"
    }
   ],
   "source": [
    "model.initialize(init=init.Normal(sigma=0.01),force_reinit=True)\n",
    "model[0].weight.data()[0]"
   ]
  },
  {
   "cell_type": "code",
   "execution_count": 17,
   "metadata": {},
   "outputs": [
    {
     "data": {
      "text/plain": [
       "\n[ 1.  1.  1.  1.  1.  1.  1.  1.  1.  1.  1.  1.  1.  1.  1.  1.  1.  1.\n  1.  1.]\n<NDArray 20 @cpu(0)>"
      ]
     },
     "execution_count": 17,
     "metadata": {},
     "output_type": "execute_result"
    }
   ],
   "source": [
    "##常数初始化\n",
    "model.initialize(init=init.Constant(1),force_reinit=True)\n",
    "model[0].weight.data()[0]"
   ]
  },
  {
   "cell_type": "heading",
   "metadata": {},
   "level": 1,
   "source": [
    "自定义初始化"
   ]
  },
  {
   "cell_type": "code",
   "execution_count": 20,
   "metadata": {},
   "outputs": [
    {
     "name": "stdout",
     "output_type": "stream",
     "text": [
      "Init dense6_weight (256, 20)\nInit dense7_weight (10, 256)\n"
     ]
    },
    {
     "data": {
      "text/plain": [
       "\n[-0.         -8.59105587 -5.17162752  0.          0.         -0.\n -5.07873631  0.          0.          8.5375824   0.          7.07880211\n -0.         -0.          0.         -0.         -0.          6.45118904\n  0.          0.        ]\n<NDArray 20 @cpu(0)>"
      ]
     },
     "execution_count": 20,
     "metadata": {},
     "output_type": "execute_result"
    }
   ],
   "source": [
    "class MyInit(init.Initializer):\n",
    "    def _init_weight(self,name,data):\n",
    "        print('Init',name,data.shape)\n",
    "        data[:] = nd.random.uniform(low=-10,high=10,shape=data.shape)\n",
    "        data *= data.abs() >=5\n",
    "model.initialize(MyInit(),force_reinit=True)\n",
    "model[0].weight.data()[0]"
   ]
  },
  {
   "cell_type": "heading",
   "metadata": {},
   "level": 1,
   "source": [
    "共享模型参数"
   ]
  },
  {
   "cell_type": "code",
   "execution_count": 24,
   "metadata": {},
   "outputs": [
    {
     "data": {
      "text/plain": [
       "\n[ 1.  1.  1.  1.  1.  1.  1.  1.]\n<NDArray 8 @cpu(0)>"
      ]
     },
     "execution_count": 24,
     "metadata": {},
     "output_type": "execute_result"
    }
   ],
   "source": [
    "model = nn.Sequential()\n",
    "shared = nn.Dense(8,activation='relu')\n",
    "model.add(nn.Dense(8,activation='relu'),\n",
    "          shared,\n",
    "          nn.Dense(8,activation='relu',params=shared.params),\n",
    "          nn.Dense(10))\n",
    "model.initialize(init=init.Normal(sigma=0.01))\n",
    "x = nd.random.uniform(shape=(2,20))\n",
    "model(x)\n",
    "model[1].weight.data()[0] == model[2].weight.data()[0]"
   ]
  },
  {
   "cell_type": "heading",
   "metadata": {},
   "level": 1,
   "source": [
    "关于不同层，使用不同的初始化方法"
   ]
  },
  {
   "cell_type": "code",
   "execution_count": 4,
   "metadata": {
    "collapsed": false
   },
   "outputs": [
    {
     "name": "stdout",
     "output_type": "stream",
     "text": [
      "Sequential(\n  (0): Dense(4 -> 4, Activation(relu))\n  (1): Dense(4 -> 2, linear)\n)\nmodel paramas is  sequential2_ (\n  Parameter sequential2_dense0_weight (shape=(4, 4), dtype=float32)\n  Parameter sequential2_dense0_bias (shape=(4,), dtype=float32)\n  Parameter sequential2_dense1_weight (shape=(2, 4), dtype=float32)\n  Parameter sequential2_dense1_bias (shape=(2,), dtype=float32)\n)\n"
     ]
    },
    {
     "ename": "KeyError",
     "evalue": "'sequential1_dense0_weight'",
     "traceback": [
      "\u001b[1;31m---------------------------------------------------------------------------\u001b[0m",
      "\u001b[1;31mKeyError\u001b[0m                                  Traceback (most recent call last)",
      "\u001b[1;32m<ipython-input-4-448493d433b6>\u001b[0m in \u001b[0;36m<module>\u001b[1;34m()\u001b[0m\n\u001b[0;32m     10\u001b[0m \u001b[0mprint\u001b[0m\u001b[1;33m(\u001b[0m\u001b[1;34m'model paramas is '\u001b[0m\u001b[1;33m,\u001b[0m\u001b[0mparamas\u001b[0m\u001b[1;33m)\u001b[0m\u001b[1;33m\u001b[0m\u001b[0m\n\u001b[0;32m     11\u001b[0m \u001b[1;33m\u001b[0m\u001b[0m\n\u001b[1;32m---> 12\u001b[1;33m \u001b[0mparamas\u001b[0m\u001b[1;33m[\u001b[0m\u001b[1;34m'sequential1_dense0_weight'\u001b[0m\u001b[1;33m]\u001b[0m\u001b[1;33m.\u001b[0m\u001b[0minitialize\u001b[0m\u001b[1;33m(\u001b[0m\u001b[0minit\u001b[0m\u001b[1;33m=\u001b[0m\u001b[0minit\u001b[0m\u001b[1;33m.\u001b[0m\u001b[0mOne\u001b[0m\u001b[1;33m(\u001b[0m\u001b[1;33m)\u001b[0m\u001b[1;33m,\u001b[0m\u001b[0mforce_reinit\u001b[0m\u001b[1;33m=\u001b[0m\u001b[1;32mTrue\u001b[0m\u001b[1;33m)\u001b[0m\u001b[1;33m\u001b[0m\u001b[0m\n\u001b[0m\u001b[0;32m     13\u001b[0m \u001b[0mparamas\u001b[0m\u001b[1;33m[\u001b[0m\u001b[1;34m'sequential1_dense1_weight '\u001b[0m\u001b[1;33m]\u001b[0m\u001b[1;33m.\u001b[0m\u001b[0minitialize\u001b[0m\u001b[1;33m(\u001b[0m\u001b[0minit\u001b[0m\u001b[1;33m=\u001b[0m\u001b[0minit\u001b[0m\u001b[1;33m.\u001b[0m\u001b[0mNormal\u001b[0m\u001b[1;33m(\u001b[0m\u001b[0msigma\u001b[0m\u001b[1;33m=\u001b[0m\u001b[1;36m0.01\u001b[0m\u001b[1;33m)\u001b[0m\u001b[1;33m,\u001b[0m\u001b[0mforce_reinit\u001b[0m\u001b[1;33m=\u001b[0m\u001b[1;32mTrue\u001b[0m\u001b[1;33m)\u001b[0m\u001b[1;33m\u001b[0m\u001b[0m\n",
      "\u001b[1;32mE:\\Soft_install\\Anaconda3\\envs\\gluon\\lib\\site-packages\\mxnet\\gluon\\parameter.py\u001b[0m in \u001b[0;36m__getitem__\u001b[1;34m(self, key)\u001b[0m\n\u001b[0;32m    533\u001b[0m \u001b[1;33m\u001b[0m\u001b[0m\n\u001b[0;32m    534\u001b[0m     \u001b[1;32mdef\u001b[0m \u001b[0m__getitem__\u001b[0m\u001b[1;33m(\u001b[0m\u001b[0mself\u001b[0m\u001b[1;33m,\u001b[0m \u001b[0mkey\u001b[0m\u001b[1;33m)\u001b[0m\u001b[1;33m:\u001b[0m\u001b[1;33m\u001b[0m\u001b[0m\n\u001b[1;32m--> 535\u001b[1;33m         \u001b[1;32mreturn\u001b[0m \u001b[0mself\u001b[0m\u001b[1;33m.\u001b[0m\u001b[0m_params\u001b[0m\u001b[1;33m[\u001b[0m\u001b[0mkey\u001b[0m\u001b[1;33m]\u001b[0m\u001b[1;33m\u001b[0m\u001b[0m\n\u001b[0m\u001b[0;32m    536\u001b[0m \u001b[1;33m\u001b[0m\u001b[0m\n\u001b[0;32m    537\u001b[0m     \u001b[1;32mdef\u001b[0m \u001b[0m__iter__\u001b[0m\u001b[1;33m(\u001b[0m\u001b[0mself\u001b[0m\u001b[1;33m)\u001b[0m\u001b[1;33m:\u001b[0m\u001b[1;33m\u001b[0m\u001b[0m\n",
      "\u001b[1;31mKeyError\u001b[0m: 'sequential1_dense0_weight'"
     ],
     "output_type": "error"
    }
   ],
   "source": [
    "#方法一\n",
    "#先构建网络，重新为每一层初始化(这种方法每次初始化有问题)\n",
    "model = nn.Sequential()\n",
    "with model.name_scope():\n",
    "    model.add(nn.Dense(4,in_units=4,activation='relu'))\n",
    "    model.add(nn.Dense(2,in_units=4))\n",
    "print(model)\n",
    "\n",
    "paramas = model.collect_params()\n",
    "print('model paramas is ',paramas)\n",
    "\n",
    "paramas['sequential1_dense0_weight'].initialize(init=init.One(),force_reinit=True)\n",
    "paramas['sequential1_dense1_weight '].initialize(init=init.Normal(sigma=0.01),force_reinit=True)"
   ]
  },
  {
   "cell_type": "code",
   "execution_count": 9,
   "metadata": {},
   "outputs": [
    {
     "name": "stdout",
     "output_type": "stream",
     "text": [
      "Sequential(\n  (0): Dense(4 -> 4, Activation(relu))\n  (1): Dense(4 -> 2, linear)\n)\n"
     ]
    },
    {
     "data": {
      "text/plain": [
       "\n[ 1.  1.  1.  1.]\n<NDArray 4 @cpu(0)>"
      ]
     },
     "execution_count": 9,
     "metadata": {},
     "output_type": "execute_result"
    }
   ],
   "source": [
    "##2.构建网络时，为每一层初始化\n",
    "model = nn.Sequential()\n",
    "with model.name_scope():\n",
    "    model.add(nn.Dense(4,in_units=4,activation='relu',weight_initializer=init.One()))\n",
    "    model.add(nn.Dense(2,in_units=4,weight_initializer=init.Normal(sigma=0.01)))\n",
    "print(model)\n",
    "model.initialize()\n",
    "model[0].weight.data()[0]"
   ]
  },
  {
   "cell_type": "heading",
   "metadata": {},
   "level": 1,
   "source": [
    "模型参数共享，对于共享层的参数梯度是一样的，而且参数更新只更新一次"
   ]
  },
  {
   "cell_type": "code",
   "execution_count": 25,
   "metadata": {},
   "outputs": [],
   "source": [
    "class MyInit(init.Initializer):\n",
    "    def __init__(self):\n",
    "        super(MyInit,self).__init__()\n",
    "        self._verbose=True\n",
    "    def _init_weight(self,_,data):\n",
    "        print('init weight',data.shape)\n",
    "        nd.random.uniform(low=5,high=10,out=data)"
   ]
  },
  {
   "cell_type": "code",
   "execution_count": 26,
   "metadata": {},
   "outputs": [],
   "source": [
    "model = nn.Sequential()\n",
    "with model.name_scope():\n",
    "    model.add(nn.Dense(4,in_units=4,activation='relu'))\n",
    "    model.add(nn.Dense(4,in_units=4,activation='relu',params=model[-1].params))\n",
    "    model.add(nn.Dense(1,in_units=4))"
   ]
  },
  {
   "cell_type": "code",
   "execution_count": 27,
   "metadata": {},
   "outputs": [
    {
     "name": "stdout",
     "output_type": "stream",
     "text": [
      "init weight (4, 4)\ninit weight (1, 4)\n\n[[ 5.61910009  8.89525509  9.24004173  9.32466698]\n [ 9.03659439  7.05698347  7.84550381  5.69986296]\n [ 7.03591633  5.16611195  5.34583473  9.91287422]\n [ 8.48714352  6.86645365  7.26771355  7.10037708]]\n<NDArray 4x4 @cpu(0)>\n\n[[ 5.61910009  8.89525509  9.24004173  9.32466698]\n [ 9.03659439  7.05698347  7.84550381  5.69986296]\n [ 7.03591633  5.16611195  5.34583473  9.91287422]\n [ 8.48714352  6.86645365  7.26771355  7.10037708]]\n<NDArray 4x4 @cpu(0)>\n"
     ]
    }
   ],
   "source": [
    "model.initialize(MyInit())\n",
    "print(model[0].weight.data())\n",
    "print(model[1].weight.data())"
   ]
  },
  {
   "cell_type": "code",
   "execution_count": 28,
   "metadata": {},
   "outputs": [],
   "source": [
    "##参数更新\n",
    "\n",
    "from mxnet import gluon\n",
    "from mxnet import autograd\n",
    "trainer = gluon.Trainer(model.collect_params(),'sgd',{\"learning_rate\":0.1})\n",
    "a = nd.random_normal(shape=(4,4))\n",
    "with autograd.record():\n",
    "    y = model(a)\n",
    "y.backward()\n",
    "trainer.step(1)"
   ]
  },
  {
   "cell_type": "code",
   "execution_count": 29,
   "metadata": {},
   "outputs": [
    {
     "name": "stdout",
     "output_type": "stream",
     "text": [
      "\n[[  710.06091309   283.78112793   601.00909424  1105.48657227]\n [  925.45739746    76.22109985   467.36206055   663.99645996]\n [ 1020.82269287   285.03424072   489.3583374   1093.58325195]\n [ 1135.44628906   114.33351135   586.68701172   821.95471191]]\n<NDArray 4x4 @cpu(0)>\n\n[[  710.06091309   283.78112793   601.00909424  1105.48657227]\n [  925.45739746    76.22109985   467.36206055   663.99645996]\n [ 1020.82269287   285.03424072   489.3583374   1093.58325195]\n [ 1135.44628906   114.33351135   586.68701172   821.95471191]]\n<NDArray 4x4 @cpu(0)>\n"
     ]
    }
   ],
   "source": [
    "print(model[0].weight.grad())\n",
    "print(model[1].weight.grad())"
   ]
  },
  {
   "cell_type": "code",
   "execution_count": 30,
   "metadata": {},
   "outputs": [
    {
     "name": "stdout",
     "output_type": "stream",
     "text": [
      "\n[[ -65.38699341  -19.48285675  -50.86087036 -101.22399139]\n [ -83.50914001   -0.56512642  -38.89070129  -60.69978714]\n [ -95.04634857  -23.33731079  -43.58999634  -99.44545746]\n [-105.05748749   -4.56689787  -51.40098572  -75.09509277]]\n<NDArray 4x4 @cpu(0)>\n\n[[ -65.38699341  -19.48285675  -50.86087036 -101.22399139]\n [ -83.50914001   -0.56512642  -38.89070129  -60.69978714]\n [ -95.04634857  -23.33731079  -43.58999634  -99.44545746]\n [-105.05748749   -4.56689787  -51.40098572  -75.09509277]]\n<NDArray 4x4 @cpu(0)>\n"
     ]
    }
   ],
   "source": [
    "print(model[0].weight.data())\n",
    "print(model[1].weight.data())"
   ]
  },
  {
   "cell_type": "code",
   "execution_count": null,
   "metadata": {},
   "outputs": [],
   "source": []
  }
 ],
 "metadata": {
  "kernelspec": {
   "display_name": "Python 2",
   "language": "python",
   "name": "python2"
  },
  "language_info": {
   "codemirror_mode": {
    "name": "ipython",
    "version": 2
   },
   "file_extension": ".py",
   "mimetype": "text/x-python",
   "name": "python",
   "nbconvert_exporter": "python",
   "pygments_lexer": "ipython2",
   "version": "2.7.6"
  }
 },
 "nbformat": 4,
 "nbformat_minor": 0
}
